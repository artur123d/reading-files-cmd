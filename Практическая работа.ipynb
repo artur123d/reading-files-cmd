{
  "cells": [
    {
      "cell_type": "markdown",
      "id": "194ee24b-50d1-4175-b37e-2e3f7e762269",
      "metadata": {
        "id": "194ee24b-50d1-4175-b37e-2e3f7e762269"
      },
      "source": [
        "# Чтение файлов в Python и командной строке. Практическая работа\n",
        "\n",
        "### Цели практической работы\n",
        "1. Научиться считывать информацию из файлов и совершать над ней операции с помощью кода на Python и командной строки.\n",
        "2. Закрепить навыки стыковки команд в конвейеры и установки внешних пакетов с помощью пакетного менеджера pip.\n",
        "\n",
        "### Что входит в практическую работу\n",
        "1. Работа с файлами в командной строке.\n",
        "2. Работа с файлами в Python 1.\n",
        "3. Работа с файлами в Python 2.\n",
        "4. Импортирование модулей.\n",
        "5. Установка внешних модулей через pip.\n",
        "6. Бонусное задание.\n",
        "\n",
        "### Что оценивается\n",
        "* Выполнены пять обязательных заданий, в каждом из них:\n",
        " * программа выполняет все описанные в задании действия;\n",
        " * результаты вычислений и применённых операций корректны;\n",
        " * стилизация кода соответствует рекомендациям [PEP 8](https://pythonworld.ru/osnovy/pep-8-rukovodstvo-po-napisaniyu-koda-na-python.html).\n",
        "\n",
        "\n",
        "### Как отправить работу на проверку\n",
        "Все задания собраны в один Jupyter Notebook. Выполните их, сохраните изменения при помощи опции Save and Checkpoint из вкладки меню File или кнопки Save and Checkpoint на панели инструментов. Отправьте итоговый файл Jupyter Notebook в формате IPYNB или ссылку на него через форму для сдачи практической работы.\n",
        "\n",
        "---"
      ]
    },
    {
      "cell_type": "markdown",
      "id": "a44f6df4",
      "metadata": {
        "id": "a44f6df4"
      },
      "source": [
        "## Задание 1. Работа с файлами в командной строке\n",
        "\n",
        "Ранее вы считали количество всех слов в рассказе А. П. Чехова «Анна на шее». Теперь необходимо определить, сколько раз каждое слово встречается в тексте.\n",
        "\n",
        "Вы уже знаете команды sort и uniq, умеете с их помощью считать количество уникальных строк в построчном файле. В результате у вас должен был получиться такой конвейер команд: `cat anna_words.txt | sort | uniq | wc -l`.\n",
        "\n",
        "Команда cat перенаправляет слова из файла в команду sort, которая сортирует слова и передаёт упорядоченный список в команду uniq. Последняя удаляет дубликаты и направляет список уникальных слов в команду wc −l, которая их считает.\n",
        "\n",
        "### Что нужно сделать\n",
        "\n",
        "Посчитайте количество уникальных слов и определите частоту встречаемости каждого слова. Информацию в виде `частота слово` сохраните в текстовый файл. Для этого:\n",
        "1. Измените конвейер команд так, чтобы он выводил слова и их частоту встречаемости на экран.\n",
        "2. Перенаправьте вывод конвейера в текстовый файл `words_freq.txt`.\n",
        "\n",
        "Если всё сделаете правильно, то получится текстовый файл `words_freq.txt`, в котором будут слова и их частота в виде:\n",
        "\n",
        "```\n",
        "...\n",
        "   1 по-прежнему\n",
        "   2 по-французски\n",
        "  40 аня\n",
        "   6 бал\n",
        "   1 бог\n",
        "   2 ваш\n",
        "   2 вид\n",
        "...\n",
        "```\n",
        "\n",
        "3. Скопируйте конвейер команд в ячейку, которая расположена непосредственно под этой.\n",
        "\n",
        "### Подсказки\n",
        "1. Ознакомьтесь с документацией команды uniq, обратите внимание на её ключ `-с`. Официальную документацию можно почитать прямо в командной строке: для этого выполните команду `man uniq`. Команда `man` (от англ. manual) выводит справку для команды, которая передаётся в man как аргумент. Если читать текст в терминале непривычно, то можете поискать информацию в интернете.\n",
        "\n",
        "2. Перенаправить вывод команды в bash можно с помощью символа `>`. О том, как это сделать, читайте в интернете. Например, в статье [**«Перенаправление ввода вывода Linux»**](https://losst.ru/perenapravlenie-vvoda-vyvoda-linux)."
      ]
    },
    {
      "cell_type": "markdown",
      "id": "ac416392",
      "metadata": {
        "id": "ac416392"
      },
      "source": [
        "### Вставьте конвейер команд, который у вас получился"
      ]
    },
    {
      "cell_type": "code",
      "execution_count": 28,
      "id": "b9b13546-4933-4e8c-b0a7-62ce13863320",
      "metadata": {
        "id": "b9b13546-4933-4e8c-b0a7-62ce13863320"
      },
      "outputs": [],
      "source": [
        "!cat anna_words.txt | sort | uniq -c > words_freq.txt"
      ]
    },
    {
      "cell_type": "raw",
      "id": "35aa50c3-7d4e-4667-8157-da4ad8761cdd",
      "metadata": {
        "id": "35aa50c3-7d4e-4667-8157-da4ad8761cdd"
      },
      "source": [
        "##\n",
        "\n",
        "*   Новый пункт\n",
        "*   Новый пункт\n",
        "\n",
        "\n",
        "## Вставьте конвейер команд сюда.\n",
        "##"
      ]
    },
    {
      "cell_type": "markdown",
      "id": "3952c1a6",
      "metadata": {
        "id": "3952c1a6"
      },
      "source": [
        "---\n",
        "\n",
        "## Задание 2. Работа с файлами в Python 1\n",
        "\n",
        "### Что нужно сделать\n",
        "В рассказе А. П. Чехова «Анна на шее» найдите десять слов, которые встречаются чаще всего.\n",
        "\n",
        "1. Напишите код на Python, который читает файл `word_freq.txt` по строкам, преобразует каждую из них в кортеж `(частота, слово)` и складывает полученные кортежи в список.\n",
        "2. Отсортируйте список по частотам, выведите на экран десять самых популярных слов и их частоты.\n",
        "\n",
        "### Подсказки\n",
        "1. Обратите внимание, что строки в файле содержат «лишние» символы: пробелы в начале и символ перевода строки в конце. Работать будет удобнее, если предварительно удалить их. Сделать это можно с помощью метода  `strip`. Ознакомьтесь с ним подробнее в [**официальной документации**](https://docs.python.org/3/library/stdtypes.html?highlight=strip#str.strip).\n",
        "\n",
        "2. Сейчас частота и слово — это одна строка, в которой они разделены пробелом. Их можно разделить с помощью метода [**`split`**](https://docs.python.org/3/library/stdtypes.html?highlight=split#str.split).\n",
        "\n",
        "3. Для сортировки в Python есть функция `sorted`. Она принимает на вход итерируемый объект, сравнивает его элементы между собой и возвращает итерируемый объект, который отсортирован. По умолчанию функция размещает элементы в порядке возрастания. Например, `sorted([2, 4, 1, 0])` вернёт `[0, 1, 2, 4]`. Подробнее про работу функции можно почитать в [**официальной документации**](https://docs.python.org/3/library/functions.html?highlight=sorted#sorted)"
      ]
    },
    {
      "cell_type": "code",
      "execution_count": 38,
      "id": "c98e4d0b",
      "metadata": {
        "colab": {
          "base_uri": "https://localhost:8080/"
        },
        "id": "c98e4d0b",
        "outputId": "7c88f90f-ff55-4c78-ac4b-06c92534a3eb"
      },
      "outputs": [
        {
          "data": {
            "text/plain": [
              "[(16, 'рука'),\n",
              " (16, 'человек'),\n",
              " (17, 'алексеич'),\n",
              " (17, 'который'),\n",
              " (17, 'модест'),\n",
              " (17, 'сказать'),\n",
              " (17, 'это'),\n",
              " (19, 'говорить'),\n",
              " (28, 'свой'),\n",
              " (40, 'аня')]"
            ]
          },
          "execution_count": 38,
          "metadata": {},
          "output_type": "execute_result"
        }
      ],
      "source": [
        "words_freq = []\n",
        "\n",
        "with open('words_freq.txt') as file:\n",
        "    for word_freq in file:\n",
        "        word_freq_string = word_freq.strip().split()\n",
        "        freq, word = int(word_freq_string[0]), word_freq_string[1]\n",
        "        words_freq.append((freq, word))\n",
        "sorted(words_freq)[-10:]"
      ]
    },
    {
      "cell_type": "markdown",
      "id": "8639569c",
      "metadata": {
        "id": "8639569c"
      },
      "source": [
        "---\n",
        "\n",
        "## Задание 3. Работа с файлами в Python 2\n",
        "\n",
        "### Что нужно сделать\n",
        "Найдите букву, с которой чаще всего начинаются слова в рассказе А. П. Чехова «Анна на шее».\n",
        "1. Используйте файл с частотами слов `words_freq.txt`.\n",
        "2. Напишите код в Python, который выводит на экран самую популярную первую букву и количество слов на неё.\n",
        "\n",
        "\n",
        "### Подсказки\n",
        "Скорее всего, вы будете искать в словаре ключ с максимальным значением. Чтобы упростить работу, отсортируйте словарь. Сортировать словарь по значениям сложнее, чем список объектов, которые можно сравнивать непосредственно. Обратите внимание на параметр key функции [**sorted**](https://docs.python.org/3/library/functions.html?highlight=sorted#sorted)."
      ]
    },
    {
      "cell_type": "code",
      "execution_count": 55,
      "id": "6da9050c",
      "metadata": {
        "colab": {
          "base_uri": "https://localhost:8080/"
        },
        "id": "6da9050c",
        "outputId": "3b11edb7-cb46-45aa-a9fb-60dddcd379d9"
      },
      "outputs": [
        {
          "data": {
            "text/plain": [
              "('п', 196)"
            ]
          },
          "execution_count": 55,
          "metadata": {},
          "output_type": "execute_result"
        }
      ],
      "source": [
        "symbols = []\n",
        "\n",
        "with open('words_freq.txt') as file:\n",
        "    for word in file:\n",
        "        symbols.append(word.strip().split()[1][0])\n",
        "\n",
        "unique_symbols = set(symbols)\n",
        "symbols_freq = {symbol: symbols.count(symbol) for symbol in unique_symbols}\n",
        "\n",
        "sorted(symbols_freq.items(), key=lambda item:item[1])[-1]"
      ]
    },
    {
      "cell_type": "markdown",
      "id": "b94a18e9",
      "metadata": {
        "id": "b94a18e9"
      },
      "source": [
        "---\n",
        "\n",
        "## Задание 4. Импортирование модулей\n",
        "\n",
        "###Что нужно сделать\n",
        "Напишите функцию `circ_sqrt`. Она должна принимать один параметр `r` типа `float` и возвращать квадратный корень из длины окружности радиуса `r`.\n",
        "\n",
        "### Подсказки\n",
        "- Используйте функции встроенного модуля math.\n",
        "- В работе функции учтите область определения квадратного корня."
      ]
    },
    {
      "cell_type": "code",
      "execution_count": 62,
      "id": "f9ddadb6",
      "metadata": {
        "colab": {
          "base_uri": "https://localhost:8080/",
          "height": 35
        },
        "id": "f9ddadb6",
        "outputId": "0e19a17f-60e0-41a4-afa0-eafb62cbfc20"
      },
      "outputs": [
        {
          "data": {
            "application/vnd.google.colaboratory.intrinsic+json": {
              "type": "string"
            },
            "text/plain": [
              "'3.5449077018110318i'"
            ]
          },
          "execution_count": 62,
          "metadata": {},
          "output_type": "execute_result"
        }
      ],
      "source": [
        "import math\n",
        "\n",
        "\n",
        "def circ_sqrt(r):\n",
        "    if r < 0:\n",
        "        return str(math.sqrt(2 * math.pi * abs(r))) + 'i'\n",
        "    return math.sqrt(2 * math.pi * r)\n",
        "\n",
        "\n",
        "circ_sqrt(-2)"
      ]
    },
    {
      "cell_type": "markdown",
      "id": "73df457b",
      "metadata": {
        "id": "73df457b"
      },
      "source": [
        "---\n",
        "\n",
        "## Задание 5. Установка внешних модулей через pip\n",
        "\n",
        "### Что нужно сделать\n",
        "\n",
        "Установите пакеты из PyPi с помощью пакетного менеджера pip и используйте их в коде.\n",
        "1. Установите пакет `cowsay`.\n",
        "2. Установите в систему пакет `wikipedia` — Python API для очень популярной онлайн-энциклопедии.\n",
        "3. Напишите функцию `random_article`, которая выводит на экран очень умную корову. Корова должна «рассказывать» краткое содержание случайной статьи из «Википедии» на английском языке.\n",
        "\n",
        "\n",
        "### Подсказки\n",
        "\n",
        "Вам понадобятся следующие функции пакета `wikipedia`:\n",
        "\n",
        "* [**wikipedia.random**](https://wikipedia.readthedocs.io/en/latest/code.html#wikipedia.random)\n",
        "* [**wikipedia.summary**](https://wikipedia.readthedocs.io/en/latest/code.html#wikipedia.summary)"
      ]
    },
    {
      "cell_type": "code",
      "execution_count": 63,
      "id": "pS5ix9dLoZvU",
      "metadata": {
        "colab": {
          "base_uri": "https://localhost:8080/"
        },
        "id": "pS5ix9dLoZvU",
        "outputId": "e2b4addc-a1a7-4e41-e705-371e61407663"
      },
      "outputs": [
        {
          "name": "stdout",
          "output_type": "stream",
          "text": [
            "Collecting cowsay\n",
            "  Downloading cowsay-6.1-py3-none-any.whl.metadata (5.6 kB)\n",
            "Downloading cowsay-6.1-py3-none-any.whl (25 kB)\n",
            "Installing collected packages: cowsay\n",
            "Successfully installed cowsay-6.1\n"
          ]
        }
      ],
      "source": [
        "!pip install cowsay"
      ]
    },
    {
      "cell_type": "code",
      "execution_count": 64,
      "id": "0fGSul6cohPb",
      "metadata": {
        "colab": {
          "base_uri": "https://localhost:8080/"
        },
        "id": "0fGSul6cohPb",
        "outputId": "02c682ca-fcaa-4540-946f-a43ce5bfcff1"
      },
      "outputs": [
        {
          "name": "stdout",
          "output_type": "stream",
          "text": [
            "Collecting wikipedia\n",
            "  Downloading wikipedia-1.4.0.tar.gz (27 kB)\n",
            "  Preparing metadata (setup.py) ... \u001b[?25l\u001b[?25hdone\n",
            "Requirement already satisfied: beautifulsoup4 in /usr/local/lib/python3.11/dist-packages (from wikipedia) (4.13.3)\n",
            "Requirement already satisfied: requests<3.0.0,>=2.0.0 in /usr/local/lib/python3.11/dist-packages (from wikipedia) (2.32.3)\n",
            "Requirement already satisfied: charset-normalizer<4,>=2 in /usr/local/lib/python3.11/dist-packages (from requests<3.0.0,>=2.0.0->wikipedia) (3.4.1)\n",
            "Requirement already satisfied: idna<4,>=2.5 in /usr/local/lib/python3.11/dist-packages (from requests<3.0.0,>=2.0.0->wikipedia) (3.10)\n",
            "Requirement already satisfied: urllib3<3,>=1.21.1 in /usr/local/lib/python3.11/dist-packages (from requests<3.0.0,>=2.0.0->wikipedia) (2.3.0)\n",
            "Requirement already satisfied: certifi>=2017.4.17 in /usr/local/lib/python3.11/dist-packages (from requests<3.0.0,>=2.0.0->wikipedia) (2025.1.31)\n",
            "Requirement already satisfied: soupsieve>1.2 in /usr/local/lib/python3.11/dist-packages (from beautifulsoup4->wikipedia) (2.6)\n",
            "Requirement already satisfied: typing-extensions>=4.0.0 in /usr/local/lib/python3.11/dist-packages (from beautifulsoup4->wikipedia) (4.13.1)\n",
            "Building wheels for collected packages: wikipedia\n",
            "  Building wheel for wikipedia (setup.py) ... \u001b[?25l\u001b[?25hdone\n",
            "  Created wheel for wikipedia: filename=wikipedia-1.4.0-py3-none-any.whl size=11678 sha256=027209c9a253d00c1f0640102f5ed9f23c16e4bdc4ad7636ca784f8f95faa7e4\n",
            "  Stored in directory: /root/.cache/pip/wheels/8f/ab/cb/45ccc40522d3a1c41e1d2ad53b8f33a62f394011ec38cd71c6\n",
            "Successfully built wikipedia\n",
            "Installing collected packages: wikipedia\n",
            "Successfully installed wikipedia-1.4.0\n"
          ]
        }
      ],
      "source": [
        "!pip install wikipedia"
      ]
    },
    {
      "cell_type": "code",
      "execution_count": 67,
      "id": "HIrNvx22o0nO",
      "metadata": {
        "id": "HIrNvx22o0nO"
      },
      "outputs": [],
      "source": [
        "import cowsay, wikipedia"
      ]
    },
    {
      "cell_type": "code",
      "execution_count": 68,
      "id": "SECJpm8tp5f4",
      "metadata": {
        "id": "SECJpm8tp5f4"
      },
      "outputs": [],
      "source": [
        "def random_article():\n",
        "    print(cowsay.cow(wikipedia.summary(wikipedia.random())))"
      ]
    },
    {
      "cell_type": "code",
      "execution_count": 69,
      "id": "8aaV_JoxqMgJ",
      "metadata": {
        "colab": {
          "base_uri": "https://localhost:8080/"
        },
        "id": "8aaV_JoxqMgJ",
        "outputId": "9ca1f2dc-200d-4ddd-aea4-1546678a375e"
      },
      "outputs": [
        {
          "name": "stdout",
          "output_type": "stream",
          "text": [
            "  _________________________________________________\n",
            " /                                                 \\\n",
            "| The Thunder Radio Network provides radio play-by- |\n",
            "| play and coverage of Oklahoma City Thunder games  |\n",
            "| to stations mostly located in the state of Oklaho |\n",
            "| ma. The primary station is WWLS-FM 98.1 \"The Spor |\n",
            "| ts Animal\" in Oklahoma City; many of the affiliat |\n",
            "| e stations also carry other WWLS programs.        |\n",
            "| Matt Pinto is the play-by-play announcer on the r |\n",
            "| adio.                                             |\n",
            " \\                                                 /\n",
            "  =================================================\n",
            "                                                 \\\n",
            "                                                  \\\n",
            "                                                    ^__^\n",
            "                                                    (oo)\\_______\n",
            "                                                    (__)\\       )\\/\\\n",
            "                                                        ||----w |\n",
            "                                                        ||     ||\n",
            "None\n"
          ]
        }
      ],
      "source": [
        "random_article()"
      ]
    },
    {
      "cell_type": "markdown",
      "id": "af263b7d",
      "metadata": {
        "id": "af263b7d"
      },
      "source": [
        "---\n",
        "\n",
        "## Задание 6. Бонусное\n",
        "\n",
        "### Что нужно сделать\n",
        "\n",
        "Выясните, как слова в рассказе «Анна на шее» распределяются по длине.\n",
        "\n",
        "1. Посчитайте, сколько слов длины 1, 2 и так далее в файле anna_words.txt.\n",
        "\n",
        "2. Выведите на экран информацию в формате `длина количество_слов`, отсортируйте её по возрастанию длины.\n",
        "\n",
        "3. Перенесите вывод программы в Excel или Google Таблицы и постройте столбчатую диаграмму.\n",
        "\n",
        "4. Сравните ваш график с [распределением русских слов по длине](http://nskhuman.ru/unislov/statist.php?nstat=21). В гистограмме по ссылке больше данных, поэтому она лучше показывает соотношение длины слов и их количества в русском языке.\n",
        "\n",
        "### Советы и рекомендации\n",
        "Вероятнее всего, вы снова будете использовать словарь. Ключами в нём будет длина слов, а значениями — количество слов этой длины. Обратите внимание, что словарь нужно сортировать по ключам, а не по значениям, как вы делали ранее."
      ]
    },
    {
      "cell_type": "code",
      "execution_count": 77,
      "id": "31cd934a",
      "metadata": {
        "colab": {
          "base_uri": "https://localhost:8080/"
        },
        "id": "31cd934a",
        "outputId": "5638ce7f-0156-4fed-f754-5f5acb790086"
      },
      "outputs": [
        {
          "data": {
            "text/plain": [
              "{1: 6,\n",
              " 2: 13,\n",
              " 3: 127,\n",
              " 4: 299,\n",
              " 5: 288,\n",
              " 6: 334,\n",
              " 7: 399,\n",
              " 8: 314,\n",
              " 9: 182,\n",
              " 10: 124,\n",
              " 11: 111,\n",
              " 12: 45,\n",
              " 13: 21,\n",
              " 14: 11,\n",
              " 15: 7,\n",
              " 16: 1,\n",
              " 17: 4,\n",
              " 18: 2}"
            ]
          },
          "execution_count": 77,
          "metadata": {},
          "output_type": "execute_result"
        }
      ],
      "source": [
        "words = []\n",
        "with open('anna_words.txt') as file:\n",
        "    for word in file:\n",
        "        words.append(word.strip())\n",
        "\n",
        "words_length = [len(word) for word in words]\n",
        "unique_words_length = {len(word) for word in words}\n",
        "words_length_count = {length: words_length.count(length) for length in unique_words_length}\n",
        "words_length_count"
      ]
    }
  ],
  "metadata": {
    "colab": {
      "provenance": []
    },
    "kernelspec": {
      "display_name": "Python 3",
      "name": "python3"
    },
    "language_info": {
      "codemirror_mode": {
        "name": "ipython",
        "version": 3
      },
      "file_extension": ".py",
      "mimetype": "text/x-python",
      "name": "python",
      "nbconvert_exporter": "python",
      "pygments_lexer": "ipython3",
      "version": "3.8.13"
    }
  },
  "nbformat": 4,
  "nbformat_minor": 5
}
